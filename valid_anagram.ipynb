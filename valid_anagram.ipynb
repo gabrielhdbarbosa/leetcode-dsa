{
 "cells": [
  {
   "cell_type": "markdown",
   "metadata": {},
   "source": [
    "# 242. Valid Anagram"
   ]
  },
  {
   "cell_type": "markdown",
   "metadata": {},
   "source": [
    "Given two strings `s` and `t`, return `true` if `t` is an **anagram** of `s`, and `false` otherwise.\n",
    "\n",
    "### Constraints:\n",
    "\n",
    "- 1 <= s.length, t.length <= 5 * 10^4\n",
    "- `s` and `t` consist of lowercase English letters."
   ]
  },
  {
   "cell_type": "code",
   "execution_count": null,
   "metadata": {},
   "outputs": [
    {
     "ename": "TabError",
     "evalue": "inconsistent use of tabs and spaces in indentation (<string>, line 3)",
     "output_type": "error",
     "traceback": [
      "  \u001b[36mFile \u001b[39m\u001b[32m<string>:3\u001b[39m\n\u001b[31m    \u001b[39m\u001b[31mif len(s) != len(t):\u001b[39m\n                        ^\n\u001b[31mTabError\u001b[39m\u001b[31m:\u001b[39m inconsistent use of tabs and spaces in indentation\n"
     ]
    }
   ],
   "source": [
    "class Solution:\n",
    "    def isAnagram(self, s: str, t: str) -> bool:\n",
    "        if len(s) != len(t):\n",
    "            return False\n",
    "\t\t\n",
    "        countS, countT = {}, {}\n",
    "\n",
    "        for i in range(len(s)):\n",
    "            countS[s[i]] = 1 + countS.get(s[i], 0)\n",
    "            countT[t[i]] = 1 + countT.get(t[i], 0)\n",
    "        for c in countS:\n",
    "            if countS[c] != countT.get(c, 0):\n",
    "                return False\n",
    "\n",
    "        return True"
   ]
  }
 ],
 "metadata": {
  "kernelspec": {
   "display_name": "Python 3",
   "language": "python",
   "name": "python3"
  },
  "language_info": {
   "codemirror_mode": {
    "name": "ipython",
    "version": 3
   },
   "file_extension": ".py",
   "mimetype": "text/x-python",
   "name": "python",
   "nbconvert_exporter": "python",
   "pygments_lexer": "ipython3",
   "version": "3.12.9"
  }
 },
 "nbformat": 4,
 "nbformat_minor": 2
}
